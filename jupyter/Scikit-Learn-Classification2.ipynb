{
 "cells": [
  {
   "cell_type": "markdown",
   "metadata": {},
   "source": [
    "# Using Machine Learning to Predict a Category (Part 2)"
   ]
  },
  {
   "cell_type": "markdown",
   "metadata": {},
   "source": [
    "Recall, you are an analyst for a credit card company and you obtain data regarding its customers that is stored on the Math@Work server.  You think that the first 23 columns of this dataset is good for predicting the last column, DEFAULT.  That is, you think you can use this data to predict whether a future customer will default on a credit card.\n",
    "<br><br>\n",
    "Here is our data import from part 1 of this notebook:"
   ]
  },
  {
   "cell_type": "code",
   "execution_count": 3,
   "metadata": {
    "collapsed": false
   },
   "outputs": [
    {
     "name": "stdout",
     "output_type": "stream",
     "text": [
      "   LIMIT_BAL  SEX  EDUCATION  MARRIAGE  AGE  PAY_0  PAY_2  PAY_3  PAY_4  \\\n",
      "0      20000    2          2         1   24      2      2     -1     -1   \n",
      "1     120000    2          2         2   26     -1      2      0      0   \n",
      "2      90000    2          2         2   34      0      0      0      0   \n",
      "3      50000    2          2         1   37      0      0      0      0   \n",
      "4      50000    1          2         1   57     -1      0     -1      0   \n",
      "\n",
      "   PAY_5   ...     BILL_AMT4  BILL_AMT5  BILL_AMT6  PAY_AMT1  PAY_AMT2  \\\n",
      "0     -2   ...             0          0          0         0       689   \n",
      "1      0   ...          3272       3455       3261         0      1000   \n",
      "2      0   ...         14331      14948      15549      1518      1500   \n",
      "3      0   ...         28314      28959      29547      2000      2019   \n",
      "4      0   ...         20940      19146      19131      2000     36681   \n",
      "\n",
      "   PAY_AMT3  PAY_AMT4  PAY_AMT5  PAY_AMT6  DEFAULT  \n",
      "0         0         0         0         0        1  \n",
      "1      1000      1000         0      2000        1  \n",
      "2      1000      1000      1000      5000        0  \n",
      "3      1200      1100      1069      1000        0  \n",
      "4     10000      9000       689       679        0  \n",
      "\n",
      "[5 rows x 24 columns]\n"
     ]
    }
   ],
   "source": [
    "import pandas as pd\n",
    "cc_default = pd.read_csv('https://mathatwork.org/DATA/cc-default.csv')\n",
    "print(cc_default.head())"
   ]
  },
  {
   "cell_type": "markdown",
   "metadata": {},
   "source": [
    "Here is our testing and training subsets:"
   ]
  },
  {
   "cell_type": "code",
   "execution_count": 4,
   "metadata": {
    "collapsed": true
   },
   "outputs": [],
   "source": [
    "from sklearn.model_selection import train_test_split\n",
    "X = cc_default.loc[:,'LIMIT_BAL':'PAY_AMT6']\n",
    "y = cc_default.loc[:,'DEFAULT']\n",
    "X_train, X_test, y_train, y_test = train_test_split(X, y, test_size=0.20)"
   ]
  },
  {
   "cell_type": "markdown",
   "metadata": {},
   "source": [
    "Here is our Logistic Regression model and evaluation metric:"
   ]
  },
  {
   "cell_type": "code",
   "execution_count": 8,
   "metadata": {
    "collapsed": false
   },
   "outputs": [
    {
     "name": "stdout",
     "output_type": "stream",
     "text": [
      "0.774166666667\n"
     ]
    }
   ],
   "source": [
    "from sklearn.metrics import accuracy_score\n",
    "from sklearn.linear_model import LogisticRegression\n",
    "\n",
    "logistic_regression = LogisticRegression()\n",
    "logistic_regression.fit(X_train, y_train)\n",
    "\n",
    "y_predicted = logistic_regression.predict(X_test)\n",
    "eval_metric = accuracy_score(y_pred = y_predicted, y_true = y_test)\n",
    "print(eval_metric)"
   ]
  },
  {
   "cell_type": "markdown",
   "metadata": {},
   "source": [
    "Notice that the accuracy may be a little different each time we run our model.  This is because data is not split the same way every time.  Data splitting is done randomly by **train_test_split( )**.  Nonetheless, it should still be close to what we had in part 1.\n",
    "<br><br>\n",
    "To test another classification model, all we need to do is replace some of the code in the modeling step above.  We do NOT need to import the data again or re-split it into testing and training subsets. "
   ]
  },
  {
   "cell_type": "markdown",
   "metadata": {},
   "source": [
    "**STEP 1: Decide on an algorithm. **\n",
    "<br>\n",
    "Suppose we want to compare the Logistic Regression model accuracy with that of a **Classification Tree model**.  Then we need to import that algorithm and then initialize it."
   ]
  },
  {
   "cell_type": "code",
   "execution_count": 6,
   "metadata": {
    "collapsed": true
   },
   "outputs": [],
   "source": [
    "from sklearn.tree import DecisionTreeClassifier\n",
    "class_tree = DecisionTreeClassifier()"
   ]
  },
  {
   "cell_type": "markdown",
   "metadata": {},
   "source": [
    "**STEP 2: Split your data into testing and training subsets. **\n",
    "<br>\n",
    "We already did this step in part 1 above and therefore, it does not need to be done again."
   ]
  },
  {
   "cell_type": "markdown",
   "metadata": {},
   "source": [
    "**STEP 3: Use the training data to train your model.**"
   ]
  },
  {
   "cell_type": "code",
   "execution_count": 7,
   "metadata": {
    "collapsed": false
   },
   "outputs": [
    {
     "data": {
      "text/plain": [
       "DecisionTreeClassifier(class_weight=None, criterion='gini', max_depth=None,\n",
       "            max_features=None, max_leaf_nodes=None,\n",
       "            min_impurity_split=1e-07, min_samples_leaf=1,\n",
       "            min_samples_split=2, min_weight_fraction_leaf=0.0,\n",
       "            presort=False, random_state=None, splitter='best')"
      ]
     },
     "execution_count": 7,
     "metadata": {},
     "output_type": "execute_result"
    }
   ],
   "source": [
    "class_tree.fit(X_train, y_train)"
   ]
  },
  {
   "cell_type": "markdown",
   "metadata": {},
   "source": [
    "**STEP 4: Use the testing data to evaluate your model.**"
   ]
  },
  {
   "cell_type": "code",
   "execution_count": 9,
   "metadata": {
    "collapsed": false
   },
   "outputs": [
    {
     "name": "stdout",
     "output_type": "stream",
     "text": [
      "0.727\n"
     ]
    }
   ],
   "source": [
    "y_predicted = class_tree.predict(X_test)\n",
    "eval_metric2 = accuracy_score(y_pred = y_predicted, y_true = y_test)\n",
    "print(eval_metric2)"
   ]
  },
  {
   "cell_type": "markdown",
   "metadata": {},
   "source": [
    "The accuracy of the Classification Tree algorithm is 72.7% which means that this model predicts credit card default correctly 72.7% of the time.  This is a little less than what we calculated for the Logistic Regression model."
   ]
  },
  {
   "cell_type": "markdown",
   "metadata": {},
   "source": [
    "### Exercise"
   ]
  },
  {
   "cell_type": "markdown",
   "metadata": {},
   "source": [
    "Suppose for good measure you want to compare both Logistic Regression and Classification Tree model accuracies to that of a **Naive Bayes model**.  Run the following code to import and initialize the algorithm:"
   ]
  },
  {
   "cell_type": "code",
   "execution_count": 11,
   "metadata": {
    "collapsed": true
   },
   "outputs": [],
   "source": [
    "from sklearn.naive_bayes import GaussianNB\n",
    "naive_bayes = GaussianNB()"
   ]
  },
  {
   "cell_type": "markdown",
   "metadata": {},
   "source": [
    "The above code completes STEP 1 of machine learning modeling.  Recall that we do not need to re-do STEP 2. "
   ]
  },
  {
   "cell_type": "markdown",
   "metadata": {},
   "source": [
    "**STEP 3: Use the training data to train your model.**  Do this in the next cell below."
   ]
  },
  {
   "cell_type": "code",
   "execution_count": null,
   "metadata": {
    "collapsed": true
   },
   "outputs": [],
   "source": []
  },
  {
   "cell_type": "markdown",
   "metadata": {},
   "source": [
    "**STEP 4: Use the testing data to evaluate your model.**  Do this in the next cell below."
   ]
  },
  {
   "cell_type": "code",
   "execution_count": null,
   "metadata": {
    "collapsed": true
   },
   "outputs": [],
   "source": []
  },
  {
   "cell_type": "markdown",
   "metadata": {},
   "source": [
    "Which model had the highest accuracy? Explain below."
   ]
  },
  {
   "cell_type": "code",
   "execution_count": null,
   "metadata": {
    "collapsed": true
   },
   "outputs": [],
   "source": []
  },
  {
   "cell_type": "markdown",
   "metadata": {},
   "source": [
    "# Using the Best Model to Make a Prediction"
   ]
  },
  {
   "cell_type": "markdown",
   "metadata": {},
   "source": [
    "**STEP 5: Make a prediction using the best model. **\n",
    "<br>\n",
    "This is the last step of this process.  Let's create data for a new customer using the same columns as in our X DataFrame.  We will then use that data to predict whether this new customer will default (column y).\n",
    "<br><br>\n",
    "Here is our new customer:"
   ]
  },
  {
   "cell_type": "code",
   "execution_count": 29,
   "metadata": {
    "collapsed": false
   },
   "outputs": [
    {
     "name": "stdout",
     "output_type": "stream",
     "text": [
      "[[250000      1      1      2     29      0      0      0      0      0\n",
      "       0  70887  67060  63561  59696  56875  55512   3000   3000   3000\n",
      "    3000   3000   3000]]\n"
     ]
    }
   ],
   "source": [
    "data = [250000, 1, 1, 2, 29, 0, 0, 0, 0, 0, 0, 70887, 67060, 63561, 59696, 56875, 55512, 3000, 3000, 3000, 3000, 3000, 3000]\n",
    "\n",
    "import numpy as np\n",
    "customer = np.array(data).reshape((1,-1))\n",
    "print(customer)"
   ]
  },
  {
   "cell_type": "markdown",
   "metadata": {},
   "source": [
    "We will assume that the Logistic Regression model had the highest accuracy and therefore use it to make our prediction.  The prediction for the new customer is made by passing the customer data into the **predict( )** method applied to our **logistic_regression( )** algorithm.  Here is our prediction:"
   ]
  },
  {
   "cell_type": "code",
   "execution_count": 30,
   "metadata": {
    "collapsed": false
   },
   "outputs": [
    {
     "name": "stdout",
     "output_type": "stream",
     "text": [
      "[0]\n"
     ]
    }
   ],
   "source": [
    "default = logistic_regression.predict(customer)\n",
    "print(default)"
   ]
  },
  {
   "cell_type": "markdown",
   "metadata": {},
   "source": [
    "The code above returns 0.  Recall that in the DEFAULT column of our data, 1 = Yes and 0 = No.  Therefore, our model predicts that our new customer **will not default**.  You will definitely want your company to provide a credit card loan to this individual because he or she is predicted not to default."
   ]
  },
  {
   "cell_type": "markdown",
   "metadata": {},
   "source": [
    "### Exercise"
   ]
  },
  {
   "cell_type": "markdown",
   "metadata": {},
   "source": [
    "Assume the Naive Bayes model is the best in accuracy.  Use this model to make a prediction regarding the same new customer.  Explain in the cell below your analysis what the model results indicate regarding this customer's prediction of credit card default."
   ]
  },
  {
   "cell_type": "code",
   "execution_count": null,
   "metadata": {
    "collapsed": true
   },
   "outputs": [],
   "source": []
  },
  {
   "cell_type": "code",
   "execution_count": null,
   "metadata": {
    "collapsed": true
   },
   "outputs": [],
   "source": []
  }
 ],
 "metadata": {
  "kernelspec": {
   "display_name": "Python 2",
   "language": "python",
   "name": "python2"
  },
  "language_info": {
   "codemirror_mode": {
    "name": "ipython",
    "version": 2
   },
   "file_extension": ".py",
   "mimetype": "text/x-python",
   "name": "python",
   "nbconvert_exporter": "python",
   "pygments_lexer": "ipython2",
   "version": "2.7.13"
  }
 },
 "nbformat": 4,
 "nbformat_minor": 2
}
