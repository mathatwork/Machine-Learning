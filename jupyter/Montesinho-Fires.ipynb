{
 "cells": [
  {
   "cell_type": "markdown",
   "metadata": {},
   "source": [
    "# Machine Learning in the Real World: Montesinho Forest Fires"
   ]
  },
  {
   "cell_type": "markdown",
   "metadata": {},
   "source": [
    "You are an analyst for Montesinho Natural Park who in interested in predicting the burn area of a future forest fire.  You obtain data regarding past forest fires in the park.\n",
    "- X - x-axis spatial coordinate within the Montesinho park map: 1 to 9 \n",
    "- Y - y-axis spatial coordinate within the Montesinho park map: 2 to 9 \n",
    "- month - month of the year: 'jan' to 'dec' \n",
    "- day - day of the week: 'mon' to 'sun' \n",
    "- FFMC - FFMC index from the FWI system: 18.7 to 96.20 \n",
    "- DMC - DMC index from the FWI system: 1.1 to 291.3 \n",
    "- DC - DC index from the FWI system: 7.9 to 860.6 \n",
    "- ISI - ISI index from the FWI system: 0.0 to 56.10 \n",
    "- temp - temperature in Celsius degrees: 2.2 to 33.30 \n",
    "- RH - relative humidity in %: 15.0 to 100 \n",
    "- wind - wind speed in km/h: 0.40 to 9.40 \n",
    "- rain - outside rain in mm/m2 : 0.0 to 6.4 \n",
    "- area - the burned area of the forest (in ha): 0.00 to 1090.84 \n"
   ]
  },
  {
   "cell_type": "markdown",
   "metadata": {},
   "source": [
    "This data is located in the *data* directory of your agency's server.  Let's import the data into its own Pandas DataFrame and then print the first 10 rows to the screen."
   ]
  },
  {
   "cell_type": "code",
   "execution_count": 1,
   "metadata": {
    "collapsed": false
   },
   "outputs": [
    {
     "name": "stdout",
     "output_type": "stream",
     "text": [
      "   area  X  Y month  day  FFMC    DMC     DC   ISI  temp  RH  wind  rain\n",
      "0   0.0  7  5   mar  fri  86.2   26.2   94.3   5.1   8.2  51   6.7   0.0\n",
      "1   0.0  7  4   oct  tue  90.6   35.4  669.1   6.7  18.0  33   0.9   0.0\n",
      "2   0.0  7  4   oct  sat  90.6   43.7  686.9   6.7  14.6  33   1.3   0.0\n",
      "3   0.0  8  6   mar  fri  91.7   33.3   77.5   9.0   8.3  97   4.0   0.2\n",
      "4   0.0  8  6   mar  sun  89.3   51.3  102.2   9.6  11.4  99   1.8   0.0\n",
      "5   0.0  8  6   aug  sun  92.3   85.3  488.0  14.7  22.2  29   5.4   0.0\n",
      "6   0.0  8  6   aug  mon  92.3   88.9  495.6   8.5  24.1  27   3.1   0.0\n",
      "7   0.0  8  6   aug  mon  91.5  145.4  608.2  10.7   8.0  86   2.2   0.0\n",
      "8   0.0  8  6   sep  tue  91.0  129.5  692.6   7.0  13.1  63   5.4   0.0\n",
      "9   0.0  7  5   sep  sat  92.5   88.0  698.6   7.1  22.8  40   4.0   0.0\n"
     ]
    }
   ],
   "source": [
    "import pandas as pd\n",
    "fires = pd.read_csv('data/forest-fires.csv')\n",
    "print(fires.head(10))"
   ]
  },
  {
   "cell_type": "markdown",
   "metadata": {},
   "source": [
    "You decide that the columns X to rain is good for predicting area.  That is, given this input data, you can create a model to predict a new forest fire's burn area.  What will be the damaged forest area of a new fire?  This information might be helpful in getting people evacuated and containing the fire."
   ]
  },
  {
   "cell_type": "markdown",
   "metadata": {},
   "source": [
    "Since the day and month columns are non-numerical, you must transform these columns to one-hot-encoding format.  Run the following code to make the transformation:"
   ]
  },
  {
   "cell_type": "code",
   "execution_count": 2,
   "metadata": {
    "collapsed": false
   },
   "outputs": [
    {
     "name": "stdout",
     "output_type": "stream",
     "text": [
      "   area  X  Y  FFMC    DMC     DC   ISI  temp  RH  wind   ...     month_may  \\\n",
      "0   0.0  7  5  86.2   26.2   94.3   5.1   8.2  51   6.7   ...             0   \n",
      "1   0.0  7  4  90.6   35.4  669.1   6.7  18.0  33   0.9   ...             0   \n",
      "2   0.0  7  4  90.6   43.7  686.9   6.7  14.6  33   1.3   ...             0   \n",
      "3   0.0  8  6  91.7   33.3   77.5   9.0   8.3  97   4.0   ...             0   \n",
      "4   0.0  8  6  89.3   51.3  102.2   9.6  11.4  99   1.8   ...             0   \n",
      "5   0.0  8  6  92.3   85.3  488.0  14.7  22.2  29   5.4   ...             0   \n",
      "6   0.0  8  6  92.3   88.9  495.6   8.5  24.1  27   3.1   ...             0   \n",
      "7   0.0  8  6  91.5  145.4  608.2  10.7   8.0  86   2.2   ...             0   \n",
      "8   0.0  8  6  91.0  129.5  692.6   7.0  13.1  63   5.4   ...             0   \n",
      "9   0.0  7  5  92.5   88.0  698.6   7.1  22.8  40   4.0   ...             0   \n",
      "\n",
      "   month_nov  month_oct  month_sep  day_mon  day_sat  day_sun  day_thu  \\\n",
      "0          0          0          0        0        0        0        0   \n",
      "1          0          1          0        0        0        0        0   \n",
      "2          0          1          0        0        1        0        0   \n",
      "3          0          0          0        0        0        0        0   \n",
      "4          0          0          0        0        0        1        0   \n",
      "5          0          0          0        0        0        1        0   \n",
      "6          0          0          0        1        0        0        0   \n",
      "7          0          0          0        1        0        0        0   \n",
      "8          0          0          1        0        0        0        0   \n",
      "9          0          0          1        0        1        0        0   \n",
      "\n",
      "   day_tue  day_wed  \n",
      "0        0        0  \n",
      "1        1        0  \n",
      "2        0        0  \n",
      "3        0        0  \n",
      "4        0        0  \n",
      "5        0        0  \n",
      "6        0        0  \n",
      "7        0        0  \n",
      "8        1        0  \n",
      "9        0        0  \n",
      "\n",
      "[10 rows x 28 columns]\n"
     ]
    }
   ],
   "source": [
    "fires = pd.concat([fires, pd.get_dummies(fires['month'], prefix='month', drop_first=True)], axis=1)\n",
    "fires = pd.concat([fires, pd.get_dummies(fires['day'], prefix='day', drop_first=True)], axis=1)\n",
    "fires.drop(['month','day'], axis=1, inplace=True)\n",
    "print(fires.head(10))"
   ]
  },
  {
   "cell_type": "markdown",
   "metadata": {},
   "source": [
    "Now use the columns from `X` to `day_wed` to predict `area`."
   ]
  },
  {
   "cell_type": "markdown",
   "metadata": {},
   "source": [
    "**1]** Run the following code to split your data into testing and training subsets."
   ]
  },
  {
   "cell_type": "code",
   "execution_count": 12,
   "metadata": {
    "collapsed": true
   },
   "outputs": [],
   "source": [
    "from sklearn.model_selection import train_test_split\n",
    "\n",
    "X = fires.loc[:,'X':'day_wed']\n",
    "y = fires.loc[:,'area']\n",
    "X_train, X_test, y_train, y_test = train_test_split(X, y, test_size=0.20)"
   ]
  },
  {
   "cell_type": "markdown",
   "metadata": {},
   "source": [
    "**2]** Use each cell below to model your data using 3 appropriate algorithms.  Be sure to print out your evaluation metric for each model."
   ]
  },
  {
   "cell_type": "code",
   "execution_count": null,
   "metadata": {
    "collapsed": true
   },
   "outputs": [],
   "source": []
  },
  {
   "cell_type": "code",
   "execution_count": null,
   "metadata": {
    "collapsed": true
   },
   "outputs": [],
   "source": []
  },
  {
   "cell_type": "code",
   "execution_count": null,
   "metadata": {
    "collapsed": true
   },
   "outputs": [],
   "source": []
  },
  {
   "cell_type": "markdown",
   "metadata": {},
   "source": [
    "**3]** Use the BEST model to make a prediction regarding the burn area of the following new forest fire.  Explain in the cell below your analysis what model results indicate regarding this fire's predicted area of damage to the forest."
   ]
  },
  {
   "cell_type": "code",
   "execution_count": 16,
   "metadata": {
    "collapsed": false
   },
   "outputs": [
    {
     "name": "stdout",
     "output_type": "stream",
     "text": [
      "[[   6.     4.    91.   129.5  692.6    7.    18.7   43.     2.7    0.\n",
      "     0.     0.     0.     0.     0.     0.     0.     0.     0.     0.\n",
      "     1.     0.     0.     0.     0.     1.     0. ]]\n"
     ]
    }
   ],
   "source": [
    "data = [6, 4, 91, 129.5, 692.6, 7, 18.7, 43, 2.7, 0, 0, 0, 0, 0, 0, 0, 0, 0, 0, 0, 1, 0, 0, 0, 0, 1, 0]\n",
    "\n",
    "import numpy as np\n",
    "new_fire = np.array(data).reshape((1,-1))\n",
    "print(new_fire)"
   ]
  },
  {
   "cell_type": "code",
   "execution_count": null,
   "metadata": {
    "collapsed": true
   },
   "outputs": [],
   "source": []
  },
  {
   "cell_type": "code",
   "execution_count": null,
   "metadata": {
    "collapsed": true
   },
   "outputs": [],
   "source": []
  },
  {
   "cell_type": "markdown",
   "metadata": {},
   "source": [
    "**4]** According to the evaluation metrics of your chosen model, is the area of damage predicted in the previous step likely/not likely correct.  Explain."
   ]
  },
  {
   "cell_type": "code",
   "execution_count": null,
   "metadata": {
    "collapsed": true
   },
   "outputs": [],
   "source": []
  },
  {
   "cell_type": "markdown",
   "metadata": {},
   "source": [
    "Excellent!  After you have completed your prediction, you could then make a recommendation to your agency regarding the given fire’s burn damage.  Understanding the burn area damage of a given fire could provide your organization with insight on how to get people evacuated and contain that particular fire."
   ]
  }
 ],
 "metadata": {
  "kernelspec": {
   "display_name": "Python 2",
   "language": "python",
   "name": "python2"
  },
  "language_info": {
   "codemirror_mode": {
    "name": "ipython",
    "version": 2
   },
   "file_extension": ".py",
   "mimetype": "text/x-python",
   "name": "python",
   "nbconvert_exporter": "python",
   "pygments_lexer": "ipython2",
   "version": "2.7.13"
  }
 },
 "nbformat": 4,
 "nbformat_minor": 2
}
