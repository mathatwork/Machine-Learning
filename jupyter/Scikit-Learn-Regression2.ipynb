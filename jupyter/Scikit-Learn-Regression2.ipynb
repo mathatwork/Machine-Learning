{
 "cells": [
  {
   "cell_type": "markdown",
   "metadata": {},
   "source": [
    "# Using Machine Learning to Predict a Number Value (Part 2)"
   ]
  },
  {
   "cell_type": "markdown",
   "metadata": {},
   "source": [
    "Recall:\n",
    "<br>\n",
    "You are a diamond broker who wants better insight on current and future diamond prices.  You obtained data regarding past diamond sales worldwide and stored it in the DATA directory of your server.  You think that the last 9 columns of this dataset is good for predicting the first column, `price`.  That is, you think you can use this data to predict the price of a new diamond."
   ]
  },
  {
   "cell_type": "markdown",
   "metadata": {},
   "source": [
    "**Here is your data import:**"
   ]
  },
  {
   "cell_type": "code",
   "execution_count": 1,
   "metadata": {},
   "outputs": [
    {
     "name": "stdout",
     "output_type": "stream",
     "text": [
      "   price  carat      cut color clarity  depth  table     x     y     z\n",
      "0    326   0.23    Ideal     E     SI2   61.5   55.0  3.95  3.98  2.43\n",
      "1    326   0.21  Premium     E     SI1   59.8   61.0  3.89  3.84  2.31\n",
      "2    327   0.23     Good     E     VS1   56.9   65.0  4.05  4.07  2.31\n",
      "3    334   0.29  Premium     I     VS2   62.4   58.0  4.20  4.23  2.63\n",
      "4    335   0.31     Good     J     SI2   63.3   58.0  4.34  4.35  2.75\n"
     ]
    }
   ],
   "source": [
    "import pandas as pd\n",
    "diamonds = pd.read_csv('data/diamonds.csv')\n",
    "print(diamonds.head())"
   ]
  },
  {
   "cell_type": "markdown",
   "metadata": {},
   "source": [
    "**Here is the pre-processing step:**"
   ]
  },
  {
   "cell_type": "code",
   "execution_count": 2,
   "metadata": {},
   "outputs": [
    {
     "name": "stdout",
     "output_type": "stream",
     "text": [
      "   price  carat  depth  table     x     y     z  cut_Good  cut_Ideal  \\\n",
      "0    326   0.23   61.5   55.0  3.95  3.98  2.43         0          1   \n",
      "1    326   0.21   59.8   61.0  3.89  3.84  2.31         0          0   \n",
      "2    327   0.23   56.9   65.0  4.05  4.07  2.31         1          0   \n",
      "3    334   0.29   62.4   58.0  4.20  4.23  2.63         0          0   \n",
      "4    335   0.31   63.3   58.0  4.34  4.35  2.75         1          0   \n",
      "\n",
      "   cut_Premium      ...       color_H  color_I  color_J  clarity_IF  \\\n",
      "0            0      ...             0        0        0           0   \n",
      "1            1      ...             0        0        0           0   \n",
      "2            0      ...             0        0        0           0   \n",
      "3            1      ...             0        1        0           0   \n",
      "4            0      ...             0        0        1           0   \n",
      "\n",
      "   clarity_SI1  clarity_SI2  clarity_VS1  clarity_VS2  clarity_VVS1  \\\n",
      "0            0            1            0            0             0   \n",
      "1            1            0            0            0             0   \n",
      "2            0            0            1            0             0   \n",
      "3            0            0            0            1             0   \n",
      "4            0            1            0            0             0   \n",
      "\n",
      "   clarity_VVS2  \n",
      "0             0  \n",
      "1             0  \n",
      "2             0  \n",
      "3             0  \n",
      "4             0  \n",
      "\n",
      "[5 rows x 24 columns]\n"
     ]
    }
   ],
   "source": [
    "diamonds = pd.concat([diamonds, pd.get_dummies(diamonds['cut'], prefix='cut', drop_first=True)],axis=1)\n",
    "diamonds = pd.concat([diamonds, pd.get_dummies(diamonds['color'], prefix='color', drop_first=True)],axis=1)\n",
    "diamonds = pd.concat([diamonds, pd.get_dummies(diamonds['clarity'], prefix='clarity', drop_first=True)],axis=1)\n",
    "diamonds.drop(['cut','color','clarity'], axis=1, inplace=True)\n",
    "print(diamonds.head())"
   ]
  },
  {
   "cell_type": "markdown",
   "metadata": {},
   "source": [
    "**Here is your test and training subsets:**"
   ]
  },
  {
   "cell_type": "code",
   "execution_count": 3,
   "metadata": {
    "collapsed": true
   },
   "outputs": [],
   "source": [
    "from sklearn.model_selection import train_test_split\n",
    "X = diamonds.loc[:, 'carat':'clarity_VVS2']\n",
    "y = diamonds.loc[:,'price']\n",
    "X_train, X_test, y_train, y_test = train_test_split(X,y, test_size=0.20)"
   ]
  },
  {
   "cell_type": "markdown",
   "metadata": {},
   "source": [
    "**Here is your modeling using Linear Regression:**"
   ]
  },
  {
   "cell_type": "code",
   "execution_count": 7,
   "metadata": {},
   "outputs": [
    {
     "name": "stdout",
     "output_type": "stream",
     "text": [
      "0.917413190101\n"
     ]
    }
   ],
   "source": [
    "from sklearn.metrics import r2_score\n",
    "from sklearn.linear_model import LinearRegression\n",
    "\n",
    "linear_regression = LinearRegression()\n",
    "linear_regression.fit(X_train, y_train)\n",
    "\n",
    "y_predicted = linear_regression.predict(X_test)\n",
    "eval_metric = r2_score(y_pred = y_predicted, y_true = y_test)\n",
    "print(eval_metric)"
   ]
  },
  {
   "cell_type": "markdown",
   "metadata": {},
   "source": [
    "Recall that the evaluation metric is slightly different because the 80/20 split into test and training subsets is done randomly."
   ]
  },
  {
   "cell_type": "markdown",
   "metadata": {},
   "source": [
    "To test another regression model, all we need to do is replace some of the code in the modeling step above. We do NOT need to import the data again or re-split it into test and training subsets."
   ]
  },
  {
   "cell_type": "markdown",
   "metadata": {},
   "source": [
    "**STEP 1: Decide on an algorithm.**\n",
    "<br>\n",
    "Suppose you want to compare the Linear Regression model's `R Squared` with that of a `K-Nearest Neighbor` model.  You would simply import the algorithm and then initialize it."
   ]
  },
  {
   "cell_type": "code",
   "execution_count": 4,
   "metadata": {
    "collapsed": true
   },
   "outputs": [],
   "source": [
    "from sklearn.neighbors import KNeighborsRegressor\n",
    "k_nearest = KNeighborsRegressor()"
   ]
  },
  {
   "cell_type": "markdown",
   "metadata": {},
   "source": [
    "**STEP 2:** Split your data into test and training subsets.\n",
    "<br>\n",
    "This was already done in part 1 of this notebook above and therefore does not need to be done again."
   ]
  },
  {
   "cell_type": "markdown",
   "metadata": {},
   "source": [
    "**STEP 3:** Use the training data to train your model."
   ]
  },
  {
   "cell_type": "code",
   "execution_count": 5,
   "metadata": {},
   "outputs": [
    {
     "data": {
      "text/plain": [
       "KNeighborsRegressor(algorithm='auto', leaf_size=30, metric='minkowski',\n",
       "          metric_params=None, n_jobs=1, n_neighbors=5, p=2,\n",
       "          weights='uniform')"
      ]
     },
     "execution_count": 5,
     "metadata": {},
     "output_type": "execute_result"
    }
   ],
   "source": [
    "k_nearest.fit(X_train, y_train)"
   ]
  },
  {
   "cell_type": "markdown",
   "metadata": {},
   "source": [
    "**STEP 4:** Use the test data to evaluate your model."
   ]
  },
  {
   "cell_type": "code",
   "execution_count": 8,
   "metadata": {},
   "outputs": [
    {
     "name": "stdout",
     "output_type": "stream",
     "text": [
      "0.933791314673\n"
     ]
    }
   ],
   "source": [
    "y_predicted = k_nearest.predict(X_test)\n",
    "eval_metric = r2_score(y_pred = y_predicted, y_true = y_test)\n",
    "print(eval_metric)"
   ]
  },
  {
   "cell_type": "markdown",
   "metadata": {},
   "source": [
    "The `R Squared` of the `K-Nearest Neighbor` algorithm is 93.3% which means that this model is 93.3% likely to predict future diamond prices correctly.  This is a bit higher than for the `Linear Regression` model."
   ]
  },
  {
   "cell_type": "markdown",
   "metadata": {},
   "source": [
    "### Exercise "
   ]
  },
  {
   "cell_type": "markdown",
   "metadata": {},
   "source": [
    "Suppose for good measure you want to compare both `Linear Regression` and `K-Nearest Neighbor` model evaluation metrics to that of a `Lasso Regression` model.  Run the following code to import and initialize your algorithm:"
   ]
  },
  {
   "cell_type": "code",
   "execution_count": 8,
   "metadata": {
    "collapsed": true
   },
   "outputs": [],
   "source": [
    "from sklearn.linear_model import Lasso\n",
    "lasso = Lasso()"
   ]
  },
  {
   "cell_type": "markdown",
   "metadata": {},
   "source": [
    "The above code completed **STEP 1** of machine learning modeling.  We do not need to re-do **STEP 2**.\n",
    "<br>\n",
    "**STEP 3:** Use the training data to train your model.  Do this in the next cell below."
   ]
  },
  {
   "cell_type": "code",
   "execution_count": null,
   "metadata": {
    "collapsed": true
   },
   "outputs": [],
   "source": []
  },
  {
   "cell_type": "markdown",
   "metadata": {},
   "source": [
    "**STEP 4:** Use the test data to evaluate the model.  Do this in the next cell below."
   ]
  },
  {
   "cell_type": "code",
   "execution_count": null,
   "metadata": {
    "collapsed": true
   },
   "outputs": [],
   "source": []
  },
  {
   "cell_type": "markdown",
   "metadata": {},
   "source": [
    "Which model had the highest `R Squared`?  Explain below."
   ]
  },
  {
   "cell_type": "code",
   "execution_count": null,
   "metadata": {
    "collapsed": true
   },
   "outputs": [],
   "source": []
  },
  {
   "cell_type": "markdown",
   "metadata": {},
   "source": [
    "# Using the Best Model to Make a Prediction"
   ]
  },
  {
   "cell_type": "markdown",
   "metadata": {},
   "source": [
    "**STEP 5:** Make a prediction.\n",
    "<br>\n",
    "This is the last step of this process.  Let's create data for a new diamond using the same columns as in our X DataFrame.  We will then use that data to predict the price of this diamond."
   ]
  },
  {
   "cell_type": "markdown",
   "metadata": {
    "collapsed": true
   },
   "source": [
    "Here is our new diamond:"
   ]
  },
  {
   "cell_type": "code",
   "execution_count": 9,
   "metadata": {},
   "outputs": [
    {
     "name": "stdout",
     "output_type": "stream",
     "text": [
      "[[  0.3   63.3   56.     4.26   4.3    2.71   1.     0.     0.     0.     0.\n",
      "    0.     0.     0.     1.     0.     0.     0.     1.     0.     0.     0.\n",
      "    0.  ]]\n"
     ]
    }
   ],
   "source": [
    "data = [0.3, 63.3, 56, 4.26, 4.3, 2.71, 1, 0, 0, 0, 0, 0, 0, 0, 1, 0, 0, 0, 1, 0, 0, 0, 0]\n",
    "\n",
    "import numpy as np\n",
    "diamond = np.array(data).reshape((1,-1))\n",
    "print(diamond)"
   ]
  },
  {
   "cell_type": "markdown",
   "metadata": {},
   "source": [
    "We will assume the `K-Nearest Neighbor` model was the best.  Here is our prediction using `K-Nearest Neighbor`:"
   ]
  },
  {
   "cell_type": "code",
   "execution_count": 10,
   "metadata": {},
   "outputs": [
    {
     "name": "stdout",
     "output_type": "stream",
     "text": [
      "[ 491.2]\n"
     ]
    }
   ],
   "source": [
    "price = k_nearest.predict(diamond)\n",
    "print(price)"
   ]
  },
  {
   "cell_type": "markdown",
   "metadata": {},
   "source": [
    "The model predicts that a diamond with these features will cost 491.20 US dollars.  Therefore, as a diamond broker you have insight on what a diamond like this would sell for on the market.  That is, you better understand how to price the diamond if you are the seller or what price you should pay if you are the buyer."
   ]
  },
  {
   "cell_type": "markdown",
   "metadata": {},
   "source": [
    "### Exercise "
   ]
  },
  {
   "cell_type": "markdown",
   "metadata": {},
   "source": [
    "Assume the Linear Regression model had the best `R Squared` value.  Use this model to predict what the same new diamond's price would be.  Explain in the cell below your analysis what the model results indicate regarding this diamond's price prediction."
   ]
  },
  {
   "cell_type": "code",
   "execution_count": null,
   "metadata": {
    "collapsed": true
   },
   "outputs": [],
   "source": []
  },
  {
   "cell_type": "code",
   "execution_count": null,
   "metadata": {
    "collapsed": true
   },
   "outputs": [],
   "source": []
  }
 ],
 "metadata": {
  "kernelspec": {
   "display_name": "Python 3",
   "language": "python",
   "name": "python3"
  },
  "language_info": {
   "codemirror_mode": {
    "name": "ipython",
    "version": 3
   },
   "file_extension": ".py",
   "mimetype": "text/x-python",
   "name": "python",
   "nbconvert_exporter": "python",
   "pygments_lexer": "ipython3",
   "version": "3.6.1"
  }
 },
 "nbformat": 4,
 "nbformat_minor": 2
}
