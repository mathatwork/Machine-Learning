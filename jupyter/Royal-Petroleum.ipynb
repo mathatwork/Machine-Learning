{
 "cells": [
  {
   "cell_type": "markdown",
   "metadata": {},
   "source": [
    "# Scikit-learn for Regression Modeling - Predicting Octane Rating"
   ]
  },
  {
   "cell_type": "markdown",
   "metadata": {},
   "source": [
    "You are an analyst for a local oil refinery, Royal Petroleum.  You obtain data regarding octane ratings of various petrols.\n",
    "- material1, amount of material 1;\n",
    "- material2, amount of material 2;\n",
    "- material3, amount of material 3;\n",
    "- condition, manufacturing condition rating;\n",
    "- rating,  the octane rating;\n",
    "<br><br>\n",
    "This data is stored in the DATA directory of your company's server.  Run the following code to import the data into a Pandas DataFrame:"
   ]
  },
  {
   "cell_type": "code",
   "execution_count": 1,
   "metadata": {},
   "outputs": [
    {
     "name": "stdout",
     "output_type": "stream",
     "text": [
      "   material1  material2  material3  condition  rating\n",
      "0      55.33       1.72         54    1.66219   92.19\n",
      "1      59.13       1.20         53    1.58399   92.74\n",
      "2      57.39       1.42         55    1.61731   91.88\n",
      "3      56.43       1.78         55    1.66228   92.80\n",
      "4      55.98       1.58         54    1.63195   92.56\n"
     ]
    }
   ],
   "source": [
    "import pandas as pd\n",
    "octane_ratings = pd.read_csv('data/octane.csv')\n",
    "print(octane_ratings.head())"
   ]
  },
  {
   "cell_type": "markdown",
   "metadata": {},
   "source": [
    "You think that the amounts of materials 1, 2 and 3; and the manufacturing conditions would be good for predicting the last column, rating.  That is, given this input data we can create a model to predict a new petrol's octane rating.  What will a new petrol's octane rating be?  A petrol with a higher octane rating might be priced higher than a lower octane rating by your company."
   ]
  },
  {
   "cell_type": "markdown",
   "metadata": {},
   "source": [
    "**Question 1)** Run the following code to create your test and training subsets.  Notice that the data columns are all numerical, so no pre-processing into one-hot-encoding is required."
   ]
  },
  {
   "cell_type": "code",
   "execution_count": 3,
   "metadata": {
    "collapsed": true
   },
   "outputs": [],
   "source": [
    "from sklearn.model_selection import train_test_split\n",
    "X = octane_ratings.loc[:,'material1':'condition']\n",
    "y = octane_ratings.loc[:,'rating']\n",
    "X_train, X_test, y_train, y_test = train_test_split(X, y, test_size=0.20)"
   ]
  },
  {
   "cell_type": "markdown",
   "metadata": {},
   "source": [
    "**Question 2)** Write code below to model this data using `Linear Regression`.  In the cell below it, explain evaluation metric results."
   ]
  },
  {
   "cell_type": "code",
   "execution_count": null,
   "metadata": {},
   "outputs": [],
   "source": []
  },
  {
   "cell_type": "code",
   "execution_count": null,
   "metadata": {
    "collapsed": true
   },
   "outputs": [],
   "source": []
  },
  {
   "cell_type": "markdown",
   "metadata": {},
   "source": [
    "**Question 3)** Write the code below to model this data using `K-Nearest Neighbor`.  In the cell below it, explain evaluation metric results."
   ]
  },
  {
   "cell_type": "code",
   "execution_count": null,
   "metadata": {},
   "outputs": [],
   "source": []
  },
  {
   "cell_type": "code",
   "execution_count": null,
   "metadata": {
    "collapsed": true
   },
   "outputs": [],
   "source": []
  },
  {
   "cell_type": "markdown",
   "metadata": {},
   "source": [
    "**Question 4)** Write code below to model this data using `Lasso Regression`.  In the cell below it, explain evaluation metric results."
   ]
  },
  {
   "cell_type": "code",
   "execution_count": null,
   "metadata": {},
   "outputs": [],
   "source": []
  },
  {
   "cell_type": "code",
   "execution_count": null,
   "metadata": {
    "collapsed": true
   },
   "outputs": [],
   "source": []
  },
  {
   "cell_type": "markdown",
   "metadata": {},
   "source": [
    "**Question 5)** Use the BEST model to make a prediction regarding the following new petrol.  Explain in the cell below your analysis what model results indicate regarding this petrol's octane rating prediction.  What would you recommend to your company regarding this petrol's selling price? Explain."
   ]
  },
  {
   "cell_type": "code",
   "execution_count": 7,
   "metadata": {},
   "outputs": [
    {
     "name": "stdout",
     "output_type": "stream",
     "text": [
      "[[ 57.51      0.87     60.        1.29842]]\n"
     ]
    }
   ],
   "source": [
    "data = [57.51, 0.87, 60, 1.29842]\n",
    "\n",
    "import numpy as np\n",
    "petrol = np.array(data).reshape((1,-1))\n",
    "print(petrol)"
   ]
  },
  {
   "cell_type": "code",
   "execution_count": null,
   "metadata": {},
   "outputs": [],
   "source": []
  },
  {
   "cell_type": "code",
   "execution_count": null,
   "metadata": {
    "collapsed": true
   },
   "outputs": [],
   "source": []
  }
 ],
 "metadata": {
  "kernelspec": {
   "display_name": "Python 3",
   "language": "python",
   "name": "python3"
  },
  "language_info": {
   "codemirror_mode": {
    "name": "ipython",
    "version": 3
   },
   "file_extension": ".py",
   "mimetype": "text/x-python",
   "name": "python",
   "nbconvert_exporter": "python",
   "pygments_lexer": "ipython3",
   "version": "3.6.1"
  }
 },
 "nbformat": 4,
 "nbformat_minor": 2
}
