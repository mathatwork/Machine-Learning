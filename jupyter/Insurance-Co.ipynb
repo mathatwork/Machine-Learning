{
 "cells": [
  {
   "cell_type": "markdown",
   "metadata": {},
   "source": [
    "# Scikit-learn for Classification Modeling - Predicting Health Quality"
   ]
  },
  {
   "cell_type": "markdown",
   "metadata": {},
   "source": [
    "You are an analyst for a large insurance company, Insurance Co.  You obtain the following sample data regarding health quality from a well known research organization:\n",
    "<br>\n",
    "- Season in which the analysis was performed. 1) winter, 2) spring, 3) Summer, 4) fall. (-1, -0.33, 0.33, 1) \n",
    "- Age at the time of analysis. 18-36 (0, 1) \n",
    "- Childish diseases (ie , chicken pox, measles, mumps, polio)\t1) yes, 2) no. (0, 1) \n",
    "- Accident or serious trauma 1) yes, 2) no. (0, 1) \n",
    "- Surgical intervention 1) yes, 2) no. (0, 1) \n",
    "- High fevers in the last year 1) less than three months ago, 2) more than three months ago, 3) no. (-1, 0, 1) \n",
    "- Frequency of alcohol consumption 1) several times a day, 2) every day, 3) several times a week, 4) once a week, 5) hardly ever or never (0, 1) \n",
    "- Smoking habit 1) never, 2) occasional 3) daily. (-1, 0, 1) \n",
    "- Number of hours spent sitting per day ene-16\t(0, 1) \n",
    "- Output: Diagnosis\tnormal (N), altered (O)\t"
   ]
  },
  {
   "cell_type": "markdown",
   "metadata": {},
   "source": [
    "The data is stored on the research organization's server.  Run the following code to import the data into a Pandas DataFrame:"
   ]
  },
  {
   "cell_type": "code",
   "execution_count": 2,
   "metadata": {
    "collapsed": false
   },
   "outputs": [
    {
     "name": "stdout",
     "output_type": "stream",
     "text": [
      "   SEASON   AGE  DISEASES  ACCIDENTS  SURGERIES  FEVERS  ALCOHOL  SMOKING  \\\n",
      "0   -0.33  0.69         0          1          1       0      0.8        0   \n",
      "1   -0.33  0.94         1          0          1       0      0.8        1   \n",
      "2   -0.33  0.50         1          0          0       0      1.0       -1   \n",
      "3   -0.33  0.75         0          1          1       0      1.0       -1   \n",
      "4   -0.33  0.67         1          1          0       0      0.8       -1   \n",
      "\n",
      "   SITTING QUALITY  \n",
      "0     0.88       N  \n",
      "1     0.31       O  \n",
      "2     0.50       N  \n",
      "3     0.38       N  \n",
      "4     0.50       O  \n"
     ]
    }
   ],
   "source": [
    "import pandas as pd\n",
    "colnames = ['SEASON','AGE','DISEASES','ACCIDENTS','SURGERIES','FEVERS','ALCOHOL','SMOKING','SITTING','QUALITY']\n",
    "health_qual = pd.read_csv('https://archive.ics.uci.edu/ml/machine-learning-databases/00244/fertility_Diagnosis.txt', names=colnames)\n",
    "print(health_qual.head())"
   ]
  },
  {
   "cell_type": "markdown",
   "metadata": {},
   "source": [
    "You think that using the first 9 columns of this dataset will be sufficient to predict the last column, QUALITY.  That is, given this input data you can create a model to predict someone's overall health quality.  Will a future Insurance Co customer's health be normal or altered?  A person who is predicted to have normal health might then be given a lower premium whereas a person with altered health might be given a higher premium."
   ]
  },
  {
   "cell_type": "markdown",
   "metadata": {},
   "source": [
    "**Question 1)** Run the following code to create your testing and training subsets:"
   ]
  },
  {
   "cell_type": "code",
   "execution_count": 4,
   "metadata": {
    "collapsed": true
   },
   "outputs": [],
   "source": [
    "from sklearn.model_selection import train_test_split\n",
    "X = health_qual.loc[:,'SEASON':'SITTING']\n",
    "y = health_qual.loc[:,'QUALITY']\n",
    "X_train, X_test, y_train, y_test = train_test_split(X, y, test_size=0.20)"
   ]
  },
  {
   "cell_type": "markdown",
   "metadata": {},
   "source": [
    "**Question 2)** Write the code below to model the data using Logistic Regression.  In the cell below it, explain the accuracy results."
   ]
  },
  {
   "cell_type": "code",
   "execution_count": null,
   "metadata": {
    "collapsed": true
   },
   "outputs": [],
   "source": []
  },
  {
   "cell_type": "code",
   "execution_count": null,
   "metadata": {
    "collapsed": true
   },
   "outputs": [],
   "source": []
  },
  {
   "cell_type": "markdown",
   "metadata": {},
   "source": [
    "**Question 3)** Write the code below to model the data using Classification Trees. In the cell below it, explain the accuracy results."
   ]
  },
  {
   "cell_type": "code",
   "execution_count": null,
   "metadata": {
    "collapsed": true
   },
   "outputs": [],
   "source": []
  },
  {
   "cell_type": "code",
   "execution_count": null,
   "metadata": {
    "collapsed": true
   },
   "outputs": [],
   "source": []
  },
  {
   "cell_type": "markdown",
   "metadata": {},
   "source": [
    "**Question 4)** Write the code below to model the data using Naive Bayes.  In the cell below it, explain the accuracy results."
   ]
  },
  {
   "cell_type": "code",
   "execution_count": null,
   "metadata": {
    "collapsed": true
   },
   "outputs": [],
   "source": []
  },
  {
   "cell_type": "code",
   "execution_count": null,
   "metadata": {
    "collapsed": true
   },
   "outputs": [],
   "source": []
  },
  {
   "cell_type": "markdown",
   "metadata": {},
   "source": [
    "**Question 5)** Use the BEST model to make a prediction regarding the following customer.  Explain in the cell below your analysis what model results indicate regarding this customer's prediction of overall health quality.  What would your recommendation be regarding his/her insurance premiums?  Explain."
   ]
  },
  {
   "cell_type": "code",
   "execution_count": 9,
   "metadata": {
    "collapsed": false
   },
   "outputs": [
    {
     "name": "stdout",
     "output_type": "stream",
     "text": [
      "[[ 1.    0.75  1.    1.    1.    0.    1.    1.    0.25]]\n"
     ]
    }
   ],
   "source": [
    "data = [1,0.75,1,1,1,0,1,1,0.25]\n",
    "\n",
    "import numpy as np\n",
    "customer = np.array(data).reshape((1,-1))\n",
    "print(customer)"
   ]
  },
  {
   "cell_type": "code",
   "execution_count": null,
   "metadata": {
    "collapsed": true
   },
   "outputs": [],
   "source": []
  },
  {
   "cell_type": "code",
   "execution_count": null,
   "metadata": {
    "collapsed": true
   },
   "outputs": [],
   "source": []
  },
  {
   "cell_type": "markdown",
   "metadata": {},
   "source": [
    "Nice.  After you have completed your prediction, you could then make a recommendation to your company regarding the given new customer’s overall health quality.  Understanding a given customer’s overall health quality could provide your organization insight on whether to offer a higher or lower premium to that particular customer."
   ]
  }
 ],
 "metadata": {
  "kernelspec": {
   "display_name": "Python 2",
   "language": "python",
   "name": "python2"
  },
  "language_info": {
   "codemirror_mode": {
    "name": "ipython",
    "version": 2
   },
   "file_extension": ".py",
   "mimetype": "text/x-python",
   "name": "python",
   "nbconvert_exporter": "python",
   "pygments_lexer": "ipython2",
   "version": "2.7.13"
  }
 },
 "nbformat": 4,
 "nbformat_minor": 2
}
